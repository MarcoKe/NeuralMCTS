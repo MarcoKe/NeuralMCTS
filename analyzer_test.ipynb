{
 "cells": [
  {
   "cell_type": "code",
   "execution_count": 6,
   "metadata": {},
   "outputs": [],
   "source": [
    "from envs.minimal_jsp_env.util.jsp_conversion.readers import JSPReaderJSON\n",
    "from envs.minimal_jsp_env.entities import JSPInstance, Operation\n",
    "from envs.minimal_jsp_env.util.jsp_generation.jsp_generator import JSPGenerator\n",
    "import os\n",
    "import pandas as pd\n",
    "from typing import List\n",
    "import random\n",
    "\n",
    "class DatasetAnalyzer():\n",
    "    def __init__(self, dataset_path: str, instance_reader) -> None:\n",
    "        self.dataset_path = dataset_path\n",
    "        self.instance_reader = instance_reader\n",
    "\n",
    "    def analyze_dataset(self):\n",
    "\n",
    "        entropies = {}\n",
    "        results_df = pd.DataFrame(columns=['entropy', 'file_name', 'relative_entropy', 'num_jobs', 'num_ops_per_job', 'max_op_time', 'opt_time'])\n",
    "\n",
    "        for entropy in os.listdir(self.dataset_path):\n",
    "            entropy_data_path = f\"{self.dataset_path}/{entropy}\"\n",
    "\n",
    "            for file_name in os.listdir(entropy_data_path):\n",
    "                instance = self.instance_reader.read_instance(f\"{entropy_data_path}/{file_name}\")\n",
    "                \n",
    "                file_data = pd.DataFrame({\n",
    "                    'entropy': entropy, \n",
    "                    'file_name': file_name,\n",
    "                    'relative_entropy': instance.relative_entropy, \n",
    "                    'num_jobs': instance.num_jobs, \n",
    "                    'num_ops_per_job': instance.num_ops_per_job, \n",
    "                    'max_op_time': instance.max_op_time, \n",
    "                    'opt_time': instance.opt_time\n",
    "                    }, index=[0])\n",
    "                \n",
    "                results_df = pd.concat([results_df, file_data], ignore_index=True)\n",
    "                \n",
    "        self.mean_num_ops_per_job = results_df['num_ops_per_job'].values.mean()\n",
    "        self.mean_num_jobs = results_df['num_jobs'].values.mean()\n",
    "        self.mean_max_op_time = results_df['max_op_time'].values.mean()\n",
    "\n",
    "        self.mean_relative_entropies = results_df.groupby('entropy').mean(numeric_only=True)['relative_entropy'].to_dict()"
   ]
  },
  {
   "cell_type": "code",
   "execution_count": 62,
   "metadata": {},
   "outputs": [],
   "source": [
    "reader = JSPReaderJSON()\n",
    "\n",
    "analyzer = DatasetAnalyzer(dataset_path=\"D:/IMA/datasets/pool_dataset_generation/\", instance_reader=reader)"
   ]
  },
  {
   "cell_type": "code",
   "execution_count": 63,
   "metadata": {},
   "outputs": [],
   "source": [
    "analyzer.analyze_dataset()"
   ]
  },
  {
   "cell_type": "code",
   "execution_count": 64,
   "metadata": {},
   "outputs": [
    {
     "name": "stdout",
     "output_type": "stream",
     "text": [
      "mean_num_ops_per_job = 6.0\n",
      "mean_num_jobs = 6.0\n",
      "mean_max_op_time = 9.0\n",
      "mean_relative_entropies = {'entropy0_2': 0.19342640361727076, 'entropy0_3': 0.30815474690146727, 'entropy0_4': 0.3947770630671603, 'entropy0_5': 0.5033317060157296, 'entropy0_6': 0.594412404004376, 'entropy0_7': 0.702960377677298, 'entropy0_8': 0.7869543323305185}\n"
     ]
    }
   ],
   "source": [
    "print(f\"mean_num_ops_per_job = {analyzer.mean_num_ops_per_job}\")\n",
    "print(f\"mean_num_jobs = {analyzer.mean_num_jobs}\")\n",
    "print(f\"mean_max_op_time = {analyzer.mean_max_op_time}\")\n",
    "\n",
    "print(f\"mean_relative_entropies = {analyzer.mean_relative_entropies}\")\n"
   ]
  },
  {
   "cell_type": "code",
   "execution_count": 11,
   "metadata": {},
   "outputs": [
    {
     "name": "stdout",
     "output_type": "stream",
     "text": [
      "found entropy = 0.9182880930023084 vs target=0.9210340371976184 at epoch=7. found/max = 0.1994037257941813. Output=[0.0561, 0.3008, 0.6165, 0.0265, 0.0001]\n",
      "found entropy = 1.3886880151346708 vs target=1.3815510557964275 at epoch=181. found/max = 0.3015497710290835. Output=[0.0115, 0.0821, 0.2857, 0.4895, 0.0197, 0.0249, 0.0173, 0.0693]\n",
      "found entropy = 1.83996014355174 vs target=1.842068074395237 at epoch=78. found/max = 0.3995422686332179. Output=[0.2261, 0.0687, 0.1972, 0.0852, 0.1434, 0.2326, 0.0325, 0.0143]\n",
      "found entropy = 2.300630963322398 vs target=2.302585092994046 at epoch=2. found/max = 0.4995756661333399. Output=[0.01, 0.01, 0.01, 0.01, 0.01, 0.01, 0.01, 0.01, 0.01, 0.01, 0.01, 0.01, 0.01, 0.01, 0.01, 0.01, 0.01, 0.01, 0.01, 0.01, 0.01, 0.01, 0.01, 0.01, 0.01, 0.01, 0.01, 0.01, 0.01, 0.01, 0.01, 0.01, 0.01, 0.01, 0.01, 0.01, 0.01, 0.01, 0.01, 0.01, 0.01, 0.01, 0.01, 0.57]\n",
      "found entropy = 2.769230773685247 vs target=2.763102111592855 at epoch=34. found/max = 0.6013308220640877. Output=[0.0103, 0.0112, 0.0151, 0.0113, 0.0115, 0.0144, 0.01, 0.0137, 0.0126, 0.0103, 0.0108, 0.0109, 0.0131, 0.0119, 0.0129, 0.014, 0.0105, 0.0129, 0.0117, 0.0105, 0.0126, 0.0111, 0.0125, 0.0104, 0.011, 0.0127, 0.0113, 0.0104, 0.0124, 0.0117, 0.0111, 0.0152, 0.0128, 0.0105, 0.0116, 0.0122, 0.0133, 0.0156, 0.014, 0.0118, 0.0103, 0.0139, 0.0142, 0.0126, 0.0128, 0.4524]\n",
      "found entropy = 3.219319587869202 vs target=3.223619130191664 at epoch=33. found/max = 0.6990663662473225. Output=[0.0117, 0.0179, 0.0149, 0.0157, 0.0103, 0.0118, 0.0111, 0.0116, 0.0142, 0.0122, 0.0308, 0.0107, 0.0105, 0.0178, 0.0232, 0.0301, 0.0118, 0.0209, 0.0166, 0.02, 0.0174, 0.0136, 0.016, 0.0197, 0.0127, 0.0189, 0.0102, 0.017, 0.0165, 0.0186, 0.0107, 0.0153, 0.0291, 0.0187, 0.0247, 0.0115, 0.0209, 0.0104, 0.0102, 0.0108, 0.0124, 0.0105, 0.0123, 0.017, 0.3011]\n",
      "found entropy = 3.6766832133375766 vs target=3.684136148790474 at epoch=78. found/max = 0.7983816156294129. Output=[0.0129, 0.0138, 0.02, 0.0106, 0.0249, 0.0222, 0.0174, 0.0105, 0.0142, 0.0147, 0.0182, 0.0116, 0.0189, 0.019, 0.0363, 0.0196, 0.0103, 0.0253, 0.0224, 0.0218, 0.0269, 0.0137, 0.0253, 0.0274, 0.0167, 0.0169, 0.0214, 0.012, 0.0251, 0.0133, 0.0129, 0.0229, 0.0161, 0.0207, 0.0142, 0.014, 0.0172, 0.0175, 0.0278, 0.0126, 0.0202, 0.0127, 0.0112, 0.0212, 0.0133, 0.0218, 0.0203, 0.1401]\n"
     ]
    }
   ],
   "source": [
    "from envs.minimal_jsp_env.util.jsp_generation.entropy_functions import EntropyOptimizer, calculate_entropy_from_operations_list\n",
    "\n",
    "optimizer = EntropyOptimizer(\n",
    "    output_size=36, \n",
    "    hidden_size=20, \n",
    "    learning_rate=0.003, \n",
    "    num_epochs=200, \n",
    "    max_episodes=200, \n",
    "    precision=0.01,\n",
    "    )\n",
    "entropies = optimizer.find_entropies()"
   ]
  },
  {
   "cell_type": "code",
   "execution_count": 42,
   "metadata": {},
   "outputs": [],
   "source": [
    "from collections import Counter\n",
    "\n",
    "class RandomJSPGeneratorOperationDistirbution(JSPGenerator):\n",
    "    def __init__(self, num_jobs: int, num_operations: int, max_op_duration: int = 9):\n",
    "        self.num_jobs = num_jobs\n",
    "        self.num_operations = num_operations\n",
    "        self.max_op_duration = max_op_duration\n",
    "        self.pool_size = self.num_jobs*self.num_operations\n",
    "    \n",
    "    def generate(self, operation_distribution: List):\n",
    "        assert len(operation_distribution) <= self.pool_size, \"The size of the operation_distribution list does not match the pool_size.\"\n",
    "        assert self.num_operations*self.max_op_duration >= len(operation_distribution), \"Not possible to generate unique operations list with given num_operations and max_op_duration\"\n",
    "\n",
    "        # making sure that the random operations are unique\n",
    "        random_operations = set()\n",
    "        while len(random_operations) < len(operation_distribution):\n",
    "            random_operations.add((random.randint(0, self.num_operations - 1), random.randint(1, self.max_op_duration)))\n",
    "        random_operations = list(random_operations)\n",
    "\n",
    "\n",
    "        operations_pool = []\n",
    "        for distr, operation in zip(operation_distribution, random_operations):\n",
    "            operations_pool += int(self.pool_size*distr)*[operation]\n",
    "        \n",
    "\n",
    "        # Following part is to fix the rounding issue of the multiplication distrubution*pool_size\n",
    "        if len(operations_pool) != self.pool_size:\n",
    "            size_difference = self.pool_size - len(operations_pool)\n",
    "\n",
    "            freq_counts = Counter(operations_pool)\n",
    "            freq_dict = {k: v for k, v in freq_counts.items()}\n",
    "            operations_pool.sort(key=lambda x: freq_dict[x])\n",
    "\n",
    "            operations_pool += operations_pool[:size_difference]\n",
    "        \n",
    "        random.shuffle(operations_pool)\n",
    "\n",
    "        jobs = []\n",
    "        for job_id in range(0, self.num_jobs):\n",
    "            job_operations = operations_pool[self.num_operations*job_id:self.num_operations*(job_id+1)]\n",
    "            operations = [Operation(job_id, op_id, type, duration) for op_id, (type, duration) in enumerate(job_operations)]\n",
    "\n",
    "            jobs.append(operations)\n",
    "\n",
    "        return JSPInstance(jobs, num_ops_per_job=self.num_operations, max_op_time=self.max_op_duration)"
   ]
  },
  {
   "cell_type": "code",
   "execution_count": 55,
   "metadata": {},
   "outputs": [
    {
     "name": "stdout",
     "output_type": "stream",
     "text": [
      "[(0, 1), (0, 1), (0, 1), (0, 1), (0, 1), (3, 1), (3, 1), (3, 1), (3, 1), (3, 1), (3, 1), (3, 1), (3, 1), (3, 1), (3, 1), (3, 1), (3, 1), (3, 1), (3, 1), (3, 1), (3, 1), (3, 1), (3, 1), (3, 1), (3, 1), (3, 1), (3, 1), (3, 1), (3, 1), (3, 1), (3, 1), (3, 1), (3, 1), (3, 1), (3, 1), (0, 9), (0, 9), (0, 9), (0, 9), (0, 9), (0, 9), (0, 9), (0, 9), (0, 9), (0, 9), (0, 9), (0, 9), (0, 9), (0, 9), (0, 9), (0, 9), (0, 9), (0, 9), (0, 9), (0, 9), (0, 9), (0, 9), (0, 9), (0, 9), (0, 9), (0, 9), (0, 9), (0, 9), (0, 9), (0, 9), (0, 9), (0, 9), (0, 9), (0, 9), (0, 9), (0, 9), (0, 9), (0, 9), (0, 9), (0, 9), (0, 9), (0, 9), (0, 9), (0, 9), (0, 9), (0, 9), (0, 9), (0, 9), (0, 9), (0, 9), (0, 9), (0, 9), (0, 9), (0, 9), (0, 9), (0, 9), (0, 9), (0, 9), (0, 9), (0, 9), (0, 9), (5, 3), (5, 3)]\n",
      "target=0.2, instance=0.20439076217880695\n",
      "[(2, 1), (9, 9), (9, 9), (9, 9), (9, 9), (9, 9), (9, 9), (9, 9), (9, 9), (6, 8), (6, 8), (6, 8), (6, 8), (6, 8), (6, 8), (6, 8), (6, 8), (6, 8), (6, 8), (6, 8), (6, 8), (6, 8), (6, 8), (6, 8), (6, 8), (6, 8), (6, 8), (6, 8), (6, 8), (6, 8), (6, 8), (6, 8), (6, 8), (6, 8), (6, 8), (6, 8), (6, 8), (0, 6), (0, 6), (0, 6), (0, 6), (0, 6), (0, 6), (0, 6), (0, 6), (0, 6), (0, 6), (0, 6), (0, 6), (0, 6), (0, 6), (0, 6), (0, 6), (0, 6), (0, 6), (0, 6), (0, 6), (0, 6), (0, 6), (0, 6), (0, 6), (0, 6), (0, 6), (0, 6), (0, 6), (0, 6), (0, 6), (0, 6), (0, 6), (0, 6), (0, 6), (0, 6), (0, 6), (0, 6), (0, 6), (0, 6), (0, 6), (0, 6), (0, 6), (0, 6), (0, 6), (0, 6), (0, 6), (0, 6), (0, 6), (7, 9), (5, 3), (5, 3), (1, 3), (1, 9), (1, 9), (1, 9), (1, 9), (1, 9), (1, 9)]\n",
      "target=0.3, instance=0.31335974195428257\n",
      "[(3, 4), (3, 4), (3, 4), (3, 4), (3, 4), (3, 4), (3, 4), (3, 4), (3, 4), (3, 4), (3, 4), (3, 4), (3, 4), (3, 4), (3, 4), (3, 4), (3, 4), (3, 4), (3, 4), (3, 4), (3, 4), (3, 4), (4, 1), (4, 1), (4, 1), (4, 1), (4, 1), (4, 1), (6, 8), (6, 8), (6, 8), (6, 8), (6, 8), (6, 8), (6, 8), (6, 8), (6, 8), (6, 8), (6, 8), (6, 8), (6, 8), (6, 8), (6, 8), (6, 8), (6, 8), (6, 8), (6, 8), (1, 4), (1, 4), (1, 4), (1, 4), (1, 4), (1, 4), (1, 4), (1, 4), (0, 8), (0, 8), (0, 8), (0, 8), (0, 8), (0, 8), (0, 8), (0, 8), (0, 8), (0, 8), (0, 8), (0, 8), (0, 8), (0, 8), (9, 7), (9, 7), (9, 7), (9, 7), (9, 7), (9, 7), (9, 7), (9, 7), (9, 7), (9, 7), (9, 7), (9, 7), (9, 7), (9, 7), (9, 7), (9, 7), (9, 7), (9, 7), (9, 7), (9, 7), (9, 7), (9, 7), (9, 7), (8, 5), (8, 5), (8, 5), (7, 8)]\n",
      "target=0.4, instance=0.4082012749202025\n",
      "[(4, 3), (3, 7), (9, 2), (8, 3), (8, 9), (9, 8), (0, 5), (8, 6), (2, 2), (1, 9), (6, 2), (7, 1), (7, 7), (6, 8), (4, 5), (5, 6), (4, 8), (8, 5), (9, 4), (0, 1), (0, 7), (2, 4), (1, 2), (1, 5), (6, 1), (6, 4), (7, 3), (7, 9), (4, 1), (3, 5), (5, 2), (4, 4), (5, 5), (9, 3), (9, 9), (9, 6), (1, 1), (0, 3), (1, 4), (0, 6), (1, 7), (7, 5), (6, 3), (7, 8), (7, 8), (7, 8), (7, 8), (7, 8), (7, 8), (7, 8), (7, 8), (7, 8), (7, 8), (7, 8), (7, 8), (7, 8), (7, 8), (7, 8), (7, 8), (7, 8), (7, 8), (7, 8), (7, 8), (7, 8), (7, 8), (7, 8), (7, 8), (7, 8), (7, 8), (7, 8), (7, 8), (7, 8), (7, 8), (7, 8), (7, 8), (7, 8), (7, 8), (7, 8), (7, 8), (7, 8), (7, 8), (7, 8), (7, 8), (7, 8), (7, 8), (7, 8), (7, 8), (7, 8), (7, 8), (7, 8), (7, 8), (7, 8), (7, 8), (7, 8), (7, 8), (7, 8), (7, 8), (7, 8), (7, 8)]\n",
      "target=0.5, instance=0.5074970524816238\n",
      "[(3, 4), (4, 3), (3, 1), (3, 7), (5, 4), (4, 6), (4, 9), (5, 1), (5, 7), (9, 5), (8, 3), (0, 2), (8, 9), (1, 6), (0, 8), (2, 5), (1, 9), (7, 1), (7, 7), (4, 2), (3, 3), (5, 6), (4, 8), (5, 9), (8, 5), (2, 4), (1, 2), (0, 4), (1, 5), (6, 1), (1, 8), (3, 2), (4, 1), (4, 7), (3, 5), (8, 4), (9, 3), (5, 8), (9, 9), (9, 6), (0, 6), (2, 9), (1, 7), (2, 6), (7, 2), (6, 9), (6, 9), (6, 9), (6, 9), (6, 9), (6, 9), (6, 9), (6, 9), (6, 9), (6, 9), (6, 9), (6, 9), (6, 9), (6, 9), (6, 9), (6, 9), (6, 9), (6, 9), (6, 9), (6, 9), (6, 9), (6, 9), (6, 9), (6, 9), (6, 9), (6, 9), (6, 9), (6, 9), (6, 9), (6, 9), (6, 9), (6, 9), (6, 9), (6, 9), (6, 9), (6, 9), (6, 9), (6, 9), (6, 9), (6, 9), (6, 9), (6, 9), (6, 9), (6, 9), (6, 9)]\n",
      "target=0.6, instance=0.5979241848341492\n",
      "[(4, 3), (5, 4), (5, 1), (9, 2), (9, 5), (8, 3), (2, 2), (1, 3), (2, 8), (7, 4), (6, 2), (6, 2), (6, 2), (7, 7), (6, 5), (6, 8), (4, 2), (4, 2), (4, 5), (4, 5), (4, 5), (3, 3), (5, 6), (5, 6), (4, 8), (3, 6), (3, 6), (5, 3), (9, 7), (8, 8), (0, 7), (2, 4), (0, 4), (2, 1), (6, 4), (7, 9), (6, 7), (7, 6), (3, 2), (4, 1), (4, 1), (3, 5), (5, 2), (5, 2), (4, 4), (3, 8), (3, 8), (9, 3), (9, 9), (8, 1), (1, 1), (2, 3), (2, 9), (7, 2), (7, 8), (7, 8), (7, 8), (7, 8), (7, 8), (7, 8), (7, 8), (7, 8), (7, 8), (7, 8), (7, 8), (7, 8), (7, 8), (7, 8), (7, 8), (7, 8), (7, 8), (7, 8), (7, 8), (7, 8), (7, 8), (7, 8), (7, 8), (7, 8), (7, 8), (7, 8), (7, 8), (7, 8), (7, 8), (7, 8)]\n",
      "target=0.7, instance=0.6978915751043846\n",
      "[(3, 4), (4, 9), (3, 7), (3, 7), (3, 1), (4, 6), (4, 6), (9, 2), (9, 2), (5, 1), (9, 5), (1, 6), (0, 8), (1, 9), (7, 4), (6, 2), (7, 1), (7, 7), (7, 7), (7, 7), (4, 2), (4, 5), (3, 3), (3, 3), (3, 9), (3, 9), (5, 6), (5, 6), (3, 6), (3, 6), (5, 3), (9, 1), (9, 1), (9, 7), (9, 7), (8, 5), (9, 4), (2, 4), (2, 4), (0, 4), (2, 1), (2, 1), (2, 7), (6, 4), (7, 3), (7, 3), (6, 7), (4, 7), (4, 7), (5, 2), (8, 4), (9, 3), (5, 8), (9, 9), (9, 9), (8, 1), (9, 6), (9, 6), (0, 3), (0, 9), (0, 6), (0, 6), (1, 7), (2, 6), (2, 6), (6, 3), (6, 3), (7, 8), (7, 8), (7, 8), (7, 8), (7, 8), (7, 8), (7, 8), (7, 8), (7, 8), (7, 8), (7, 8), (7, 8), (7, 8), (7, 8)]\n",
      "target=0.8, instance=0.8012331202860552\n"
     ]
    }
   ],
   "source": [
    "generator = RandomJSPGeneratorOperationDistirbution(num_jobs=10, num_operations=10, max_op_duration=9)\n",
    "for key in entropies.keys():\n",
    "    instance = generator.generate(entropies[key])\n",
    "    print(f\"target={key}, instance={instance.relative_entropy}\")"
   ]
  },
  {
   "cell_type": "code",
   "execution_count": 32,
   "metadata": {},
   "outputs": [],
   "source": [
    "pool = [(4, 4), (6, 2), (6, 2), (3, 4), (6, 2), (6, 2), (3, 4), (3, 4), (3, 4), (3, 4), (3, 4), (3, 4), (6, 2), (3, 4), (3, 4), (3, 4), (3, 4), (3, 4), (3, 4), (6, 2), (6, 2), (3, 4), (3, 4), (6, 2), (6, 2), (6, 2), (3, 4), (3, 4), (3, 4), (3, 4), (6, 2), (6, 2), (3, 4), (3, 4), (4, 4), (6, 2), (3, 4), (3, 4), (6, 2), (6, 2), (6, 2), (3, 4), (6, 2), (3, 4), (3, 4), (3, 4), (3, 4), (6, 2), (3, 4), (3, 4), (3, 4), (3, 4), (3, 4), (4, 4), (3, 4), (3, 4), (3, 4), (5, 4), (3, 4), (3, 4), (3, 4), (6, 2), (6, 2), (3, 4), (3, 4), (3, 4), (3, 4), (3, 4), (6, 2), (3, 4), (3, 4), (6, 2), (3, 4), (3, 4), (6, 2), (6, 2), (3, 4), (4, 4), (6, 2), (3, 4), (3, 4), (4, 4), (5, 4), (3, 4), (3, 4), (3, 4), (6, 2), (3, 4), (3, 4), (3, 4), (3, 4), (3, 4), (6, 2), (6, 2), (3, 4), (6, 2), (3, 4), (6, 2)]"
   ]
  },
  {
   "cell_type": "code",
   "execution_count": 33,
   "metadata": {},
   "outputs": [
    {
     "data": {
      "text/plain": [
       "98"
      ]
     },
     "execution_count": 33,
     "metadata": {},
     "output_type": "execute_result"
    }
   ],
   "source": [
    "len(pool)"
   ]
  },
  {
   "cell_type": "code",
   "execution_count": 40,
   "metadata": {},
   "outputs": [
    {
     "name": "stdout",
     "output_type": "stream",
     "text": [
      "{(5, 4): 2, (4, 4): 5, (6, 2): 30, (3, 4): 61}\n"
     ]
    },
    {
     "data": {
      "text/plain": [
       "[(5, 4),\n",
       " (5, 4),\n",
       " (4, 4),\n",
       " (4, 4),\n",
       " (4, 4),\n",
       " (4, 4),\n",
       " (4, 4),\n",
       " (6, 2),\n",
       " (6, 2),\n",
       " (6, 2),\n",
       " (6, 2),\n",
       " (6, 2),\n",
       " (6, 2),\n",
       " (6, 2),\n",
       " (6, 2),\n",
       " (6, 2),\n",
       " (6, 2),\n",
       " (6, 2),\n",
       " (6, 2),\n",
       " (6, 2),\n",
       " (6, 2),\n",
       " (6, 2),\n",
       " (6, 2),\n",
       " (6, 2),\n",
       " (6, 2),\n",
       " (6, 2),\n",
       " (6, 2),\n",
       " (6, 2),\n",
       " (6, 2),\n",
       " (6, 2),\n",
       " (6, 2),\n",
       " (6, 2),\n",
       " (6, 2),\n",
       " (6, 2),\n",
       " (6, 2),\n",
       " (6, 2),\n",
       " (6, 2),\n",
       " (3, 4),\n",
       " (3, 4),\n",
       " (3, 4),\n",
       " (3, 4),\n",
       " (3, 4),\n",
       " (3, 4),\n",
       " (3, 4),\n",
       " (3, 4),\n",
       " (3, 4),\n",
       " (3, 4),\n",
       " (3, 4),\n",
       " (3, 4),\n",
       " (3, 4),\n",
       " (3, 4),\n",
       " (3, 4),\n",
       " (3, 4),\n",
       " (3, 4),\n",
       " (3, 4),\n",
       " (3, 4),\n",
       " (3, 4),\n",
       " (3, 4),\n",
       " (3, 4),\n",
       " (3, 4),\n",
       " (3, 4),\n",
       " (3, 4),\n",
       " (3, 4),\n",
       " (3, 4),\n",
       " (3, 4),\n",
       " (3, 4),\n",
       " (3, 4),\n",
       " (3, 4),\n",
       " (3, 4),\n",
       " (3, 4),\n",
       " (3, 4),\n",
       " (3, 4),\n",
       " (3, 4),\n",
       " (3, 4),\n",
       " (3, 4),\n",
       " (3, 4),\n",
       " (3, 4),\n",
       " (3, 4),\n",
       " (3, 4),\n",
       " (3, 4),\n",
       " (3, 4),\n",
       " (3, 4),\n",
       " (3, 4),\n",
       " (3, 4),\n",
       " (3, 4),\n",
       " (3, 4),\n",
       " (3, 4),\n",
       " (3, 4),\n",
       " (3, 4),\n",
       " (3, 4),\n",
       " (3, 4),\n",
       " (3, 4),\n",
       " (3, 4),\n",
       " (3, 4),\n",
       " (3, 4),\n",
       " (3, 4),\n",
       " (3, 4),\n",
       " (3, 4)]"
      ]
     },
     "execution_count": 40,
     "metadata": {},
     "output_type": "execute_result"
    }
   ],
   "source": [
    "from collections import Counter\n",
    "freq_counts = Counter(pool)\n",
    "freq_dict = {k: v for k, v in freq_counts.items()}\n",
    "print(freq_dict)\n",
    "pool.sort(key=lambda x: freq_dict[x])\n",
    "pool\n"
   ]
  },
  {
   "cell_type": "code",
   "execution_count": null,
   "metadata": {},
   "outputs": [],
   "source": []
  }
 ],
 "metadata": {
  "kernelspec": {
   "display_name": "neural_mcts",
   "language": "python",
   "name": "python3"
  },
  "language_info": {
   "codemirror_mode": {
    "name": "ipython",
    "version": 3
   },
   "file_extension": ".py",
   "mimetype": "text/x-python",
   "name": "python",
   "nbconvert_exporter": "python",
   "pygments_lexer": "ipython3",
   "version": "3.10.9"
  },
  "orig_nbformat": 4
 },
 "nbformat": 4,
 "nbformat_minor": 2
}
