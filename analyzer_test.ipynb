{
 "cells": [
  {
   "cell_type": "code",
   "execution_count": 30,
   "metadata": {},
   "outputs": [],
   "source": [
    "from envs.minimal_jsp_env.util.jsp_conversion.readers import JSPReaderJSON\n",
    "from envs.minimal_jsp_env.entities import JSPInstance\n",
    "import os\n",
    "import pandas as pd\n",
    "\n",
    "class DatasetAnalyzer():\n",
    "    def __init__(self, dataset_path: str, instance_reader) -> None:\n",
    "        self.dataset_path = dataset_path\n",
    "        self.instance_reader = instance_reader\n",
    "\n",
    "    def analyze_dataset(self):\n",
    "\n",
    "        entropies = {}\n",
    "        results_df = pd.DataFrame(columns=['entropy', 'file_name', 'relative_entropy', 'num_jobs', 'num_ops_per_job', 'max_op_time', 'opt_time'])\n",
    "\n",
    "        for entropy in os.listdir(self.dataset_path):\n",
    "            entropy_data_path = f\"{self.dataset_path}/{entropy}\"\n",
    "\n",
    "            for file_name in os.listdir(entropy_data_path):\n",
    "                instance = self.instance_reader.read_instance(f\"{entropy_data_path}/{file_name}\")\n",
    "                \n",
    "                file_data = pd.DataFrame({\n",
    "                    'entropy': entropy, \n",
    "                    'file_name': file_name,\n",
    "                    'relative_entropy': instance.relative_entropy, \n",
    "                    'num_jobs': instance.num_jobs, \n",
    "                    'num_ops_per_job': instance.num_ops_per_job, \n",
    "                    'max_op_time': instance.max_op_time, \n",
    "                    'opt_time': instance.opt_time\n",
    "                    }, index=[0])\n",
    "                \n",
    "                results_df = pd.concat([results_df, file_data], ignore_index=True)\n",
    "                \n",
    "        self.mean_num_ops_per_job = results_df['num_ops_per_job'].values.mean()\n",
    "        self.mean_num_jobs = results_df['num_jobs'].values.mean()\n",
    "        self.mean_max_op_time = results_df['max_op_time'].values.mean()\n",
    "\n",
    "        self.mean_relative_entropies = results_df.groupby('entropy').mean(numeric_only=True)['relative_entropy'].to_dict()"
   ]
  },
  {
   "cell_type": "code",
   "execution_count": 34,
   "metadata": {},
   "outputs": [],
   "source": [
    "reader = JSPReaderJSON()\n",
    "\n",
    "analyzer = DatasetAnalyzer(dataset_path=\"C:/Users/Comberek/Desktop/pool_dataset_generation/\", instance_reader=reader)"
   ]
  },
  {
   "cell_type": "code",
   "execution_count": 35,
   "metadata": {},
   "outputs": [],
   "source": [
    "analyzer.analyze_dataset()"
   ]
  },
  {
   "cell_type": "code",
   "execution_count": 36,
   "metadata": {},
   "outputs": [
    {
     "name": "stdout",
     "output_type": "stream",
     "text": [
      "mean_num_ops_per_job = 6.0\n",
      "mean_num_jobs = 6.0\n",
      "mean_max_op_time = 9.0\n",
      "mean_relative_entropies = {'entropy0_2': 0.19225076471475588, 'entropy0_3': 0.28777024632164655, 'entropy0_4': 0.365096660936818, 'entropy0_5': 0.4403616587648972, 'entropy0_6': 0.5428296471638181, 'entropy0_7': 0.685935809697416, 'entropy0_8': 0.7702912881987423}\n"
     ]
    }
   ],
   "source": [
    "print(f\"mean_num_ops_per_job = {analyzer.mean_num_ops_per_job}\")\n",
    "print(f\"mean_num_jobs = {analyzer.mean_num_jobs}\")\n",
    "print(f\"mean_max_op_time = {analyzer.mean_max_op_time}\")\n",
    "\n",
    "print(f\"mean_relative_entropies = {analyzer.mean_relative_entropies}\")\n"
   ]
  },
  {
   "cell_type": "code",
   "execution_count": null,
   "metadata": {},
   "outputs": [],
   "source": []
  }
 ],
 "metadata": {
  "kernelspec": {
   "display_name": "neural_mcts",
   "language": "python",
   "name": "python3"
  },
  "language_info": {
   "codemirror_mode": {
    "name": "ipython",
    "version": 3
   },
   "file_extension": ".py",
   "mimetype": "text/x-python",
   "name": "python",
   "nbconvert_exporter": "python",
   "pygments_lexer": "ipython3",
   "version": "3.10.9"
  },
  "orig_nbformat": 4
 },
 "nbformat": 4,
 "nbformat_minor": 2
}
