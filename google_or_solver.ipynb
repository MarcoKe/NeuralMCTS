{
 "cells": [
  {
   "cell_type": "code",
   "execution_count": 1,
   "metadata": {},
   "outputs": [],
   "source": [
    "from envs.minimal_jsp_env.util.jsp_generation.random_generator import RandomJSPGenerator, RandomJSPGeneratorPool, RandomJSPGeneratorOperationDistirbution, RandomJSPGeneratorWithJobPool\n",
    "from envs.minimal_jsp_env.entities import Operation, JSPInstance\n",
    "import json\n",
    "from typing import List"
   ]
  },
  {
   "cell_type": "code",
   "execution_count": 2,
   "metadata": {},
   "outputs": [],
   "source": [
    "import collections\n",
    "import numpy as np\n",
    "import pandas as pd\n",
    "\n",
    "from ortools.sat.python import cp_model\n",
    "\n",
    "###############################################################################\n",
    "# OR job shop problem python, see https://developers.google.com/optimization/scheduling/job_shop\n",
    "##############################################################################\n",
    "\n",
    "\n",
    "\n",
    "def solve_jsp(jobs_data, max_time_in_seconds=7200, verbose=False):\n",
    "    \"\"\"Minimal jobshop problem.\"\"\"\n",
    "    # Create the model.\n",
    "    model = cp_model.CpModel()\n",
    "\n",
    "    machines_count = 1 + max(task[0] for job in jobs_data for task in job)\n",
    "    all_machines = range(machines_count)\n",
    "\n",
    "    # Computes horizon dynamically as the sum of all durations.\n",
    "    horizon = sum(task[1] for job in jobs_data for task in job)\n",
    "\n",
    "    # Named tuple to store information about created variables.\n",
    "    task_type = collections.namedtuple('task_type', 'start end interval')\n",
    "    # Named tuple to manipulate solution information.\n",
    "    assigned_task_type = collections.namedtuple('assigned_task_type',\n",
    "                                                'start job index duration')\n",
    "\n",
    "    # Creates job intervals and add to the corresponding machine lists.\n",
    "    all_tasks = {}\n",
    "    machine_to_intervals = collections.defaultdict(list)\n",
    "\n",
    "    for job_id, job in enumerate(jobs_data):\n",
    "        for task_id, task in enumerate(job):\n",
    "            machine = task[0]\n",
    "            duration = task[1]\n",
    "            suffix = '_%i_%i' % (job_id, task_id)\n",
    "            start_var = model.NewIntVar(0, horizon, 'start' + suffix)\n",
    "            end_var = model.NewIntVar(0, horizon, 'end' + suffix)\n",
    "            interval_var = model.NewIntervalVar(start_var, duration, end_var,\n",
    "                                                'interval' + suffix)\n",
    "            all_tasks[job_id, task_id] = task_type(\n",
    "                start=start_var, end=end_var, interval=interval_var)\n",
    "            machine_to_intervals[machine].append(interval_var)\n",
    "\n",
    "    # Create and add disjunctive constraints.\n",
    "    for machine in all_machines:\n",
    "        model.AddNoOverlap(machine_to_intervals[machine])\n",
    "\n",
    "    # Precedences inside a job.\n",
    "    for job_id, job in enumerate(jobs_data):\n",
    "        for task_id in range(len(job) - 1):\n",
    "            model.Add(all_tasks[job_id, task_id +\n",
    "                                1].start >= all_tasks[job_id, task_id].end)\n",
    "\n",
    "    # Makespan objective.\n",
    "    obj_var = model.NewIntVar(0, horizon, 'makespan')\n",
    "    model.AddMaxEquality(obj_var, [\n",
    "        all_tasks[job_id, len(job) - 1].end\n",
    "        for job_id, job in enumerate(jobs_data)\n",
    "    ])\n",
    "    model.Minimize(obj_var)\n",
    "\n",
    "    # Solve model.\n",
    "    solver = cp_model.CpSolver()\n",
    "    solver.parameters.max_time_in_seconds = max_time_in_seconds\n",
    "    status = solver.Solve(model)\n",
    "\n",
    "    if (status == cp_model.OPTIMAL) or (status == cp_model.FEASIBLE):\n",
    "        # Create one list of assigned tasks per machine.\n",
    "        assigned_jobs = collections.defaultdict(list)\n",
    "        for job_id, job in enumerate(jobs_data):\n",
    "            for task_id, task in enumerate(job):\n",
    "                machine = task[0]\n",
    "                assigned_jobs[machine].append(\n",
    "                    assigned_task_type(\n",
    "                        start=solver.Value(all_tasks[job_id, task_id].start),\n",
    "                        job=job_id,\n",
    "                        index=task_id,\n",
    "                        duration=task[1]))\n",
    "\n",
    "        # Create per machine output lines.\n",
    "        output = ''\n",
    "        gantt_data = []\n",
    "\n",
    "        for machine in all_machines:\n",
    "            # Sort by starting time.\n",
    "            assigned_jobs[machine].sort()\n",
    "            sol_line_tasks = 'Machine ' + str(machine) + ': '\n",
    "            sol_line = '           '\n",
    "\n",
    "            for assigned_task in assigned_jobs[machine]:\n",
    "                name = 'job_%i_%i' % (assigned_task.job, assigned_task.index)\n",
    "                # Add spaces to output to align columns.\n",
    "                sol_line_tasks += '%-10s' % name\n",
    "\n",
    "                start = assigned_task.start\n",
    "                duration = assigned_task.duration\n",
    "                sol_tmp = '[%i,%i]' % (start, start + duration)\n",
    "                # Add spaces to output to align columns.\n",
    "                sol_line += '%-10s' % sol_tmp\n",
    "\n",
    "                # add Job_num,Mach_num,Job_time,Start_time\n",
    "                gantt_data.append([assigned_task.job, machine, duration, start])\n",
    "\n",
    "            sol_line += '\\n'\n",
    "            sol_line_tasks += '\\n'\n",
    "            output += sol_line_tasks\n",
    "            output += sol_line\n",
    "\n",
    "        gantt_data = pd.DataFrame(data=gantt_data, columns=[\"Job_num\", \"Mach_num\", \"Job_time\", \"Start_time\"])\n",
    "\n",
    "        # Finally print the solution found.\n",
    "        optimal_time = solver.ObjectiveValue()\n",
    "        if verbose:\n",
    "            print(\"################# OR Solver Solution #################\")\n",
    "            print('Optimal Schedule Length: %i' % optimal_time)\n",
    "            print(output)\n",
    "            print(\"#######################################################\")\n",
    "        status_dict = {4: 'OPTIMAL', 2: 'FEASIBLE'}\n",
    "        return optimal_time, output, gantt_data, status_dict[status]\n"
   ]
  },
  {
   "cell_type": "code",
   "execution_count": 3,
   "metadata": {},
   "outputs": [],
   "source": [
    "class JSPReaderGoogleOR:\n",
    "    def read_instance(self, path: str) -> List:       \n",
    "\n",
    "        with open(path, 'r') as file:\n",
    "            input_file = json.load(file)\n",
    "\n",
    "        jobs = []\n",
    "\n",
    "        for job_machine_types, job_durations in zip(input_file['machine_types'], input_file['durations']):\n",
    "            \n",
    "            operations = []\n",
    "            for operation_machine_type, operation_duration in zip(job_machine_types, job_durations):\n",
    "                operations.append([operation_machine_type, operation_duration])\n",
    "            \n",
    "            jobs.append(operations)\n",
    "\n",
    "\n",
    "        return jobs"
   ]
  },
  {
   "cell_type": "code",
   "execution_count": 4,
   "metadata": {},
   "outputs": [
    {
     "data": {
      "text/plain": [
       "[[[1, 9], [1, 9], [1, 1], [1, 9], [1, 1], [1, 1]],\n",
       " [[1, 9], [1, 9], [1, 9], [1, 1], [1, 9], [1, 9]],\n",
       " [[1, 2], [1, 1], [1, 9], [1, 1], [1, 2], [1, 1]],\n",
       " [[1, 1], [4, 4], [4, 4], [1, 9], [4, 4], [1, 9]],\n",
       " [[1, 9], [1, 9], [1, 1], [4, 4], [1, 1], [1, 2]],\n",
       " [[4, 4], [1, 9], [1, 1], [4, 4], [1, 9], [1, 1]]]"
      ]
     },
     "execution_count": 4,
     "metadata": {},
     "output_type": "execute_result"
    }
   ],
   "source": [
    "test_instance = JSPReaderGoogleOR().read_instance('data/entropy_datasets/entropy0_4/entropy0_4_49')\n",
    "test_instance"
   ]
  },
  {
   "cell_type": "code",
   "execution_count": 5,
   "metadata": {},
   "outputs": [
    {
     "name": "stdout",
     "output_type": "stream",
     "text": [
      "################# OR Solver Solution #################\n",
      "Optimal Schedule Length: 153\n",
      "Machine 0: \n",
      "           \n",
      "Machine 1: job_3_0   job_2_0   job_2_1   job_0_0   job_0_1   job_0_2   job_0_3   job_0_4   job_0_5   job_1_0   job_1_1   job_1_2   job_1_3   job_1_4   job_1_5   job_2_2   job_2_3   job_2_4   job_2_5   job_3_3   job_4_0   job_3_5   job_5_1   job_5_2   job_4_1   job_4_2   job_5_4   job_4_4   job_5_5   job_4_5   \n",
      "           [0,1]     [1,3]     [3,4]     [4,13]    [13,22]   [22,23]   [23,32]   [32,33]   [33,34]   [34,43]   [43,52]   [52,61]   [61,62]   [62,71]   [71,80]   [80,89]   [89,90]   [90,92]   [92,93]   [93,102]  [102,111] [111,120] [120,129] [129,130] [130,139] [139,140] [140,149] [149,150] [150,151] [151,153] \n",
      "Machine 2: \n",
      "           \n",
      "Machine 3: \n",
      "           \n",
      "Machine 4: job_5_0   job_3_1   job_3_2   job_3_4   job_5_3   job_4_3   \n",
      "           [0,4]     [4,8]     [8,12]    [102,106] [130,134] [140,144] \n",
      "\n",
      "#######################################################\n"
     ]
    }
   ],
   "source": [
    "optimal_time, output, gantt_data, status = solve_jsp(test_instance, verbose=True)"
   ]
  },
  {
   "cell_type": "code",
   "execution_count": 6,
   "metadata": {},
   "outputs": [
    {
     "name": "stdout",
     "output_type": "stream",
     "text": [
      "optimal_time=153.0\n",
      "output=Machine 0: \n",
      "           \n",
      "Machine 1: job_3_0   job_2_0   job_2_1   job_0_0   job_0_1   job_0_2   job_0_3   job_0_4   job_0_5   job_1_0   job_1_1   job_1_2   job_1_3   job_1_4   job_1_5   job_2_2   job_2_3   job_2_4   job_2_5   job_3_3   job_4_0   job_3_5   job_5_1   job_5_2   job_4_1   job_4_2   job_5_4   job_4_4   job_5_5   job_4_5   \n",
      "           [0,1]     [1,3]     [3,4]     [4,13]    [13,22]   [22,23]   [23,32]   [32,33]   [33,34]   [34,43]   [43,52]   [52,61]   [61,62]   [62,71]   [71,80]   [80,89]   [89,90]   [90,92]   [92,93]   [93,102]  [102,111] [111,120] [120,129] [129,130] [130,139] [139,140] [140,149] [149,150] [150,151] [151,153] \n",
      "Machine 2: \n",
      "           \n",
      "Machine 3: \n",
      "           \n",
      "Machine 4: job_5_0   job_3_1   job_3_2   job_3_4   job_5_3   job_4_3   \n",
      "           [0,4]     [4,8]     [8,12]    [102,106] [130,134] [140,144] \n",
      "\n",
      "gannt data =     Job_num  Mach_num  Job_time  Start_time\n",
      "0         3         1         1           0\n",
      "1         2         1         2           1\n",
      "2         2         1         1           3\n",
      "3         0         1         9           4\n",
      "4         0         1         9          13\n",
      "5         0         1         1          22\n",
      "6         0         1         9          23\n",
      "7         0         1         1          32\n",
      "8         0         1         1          33\n",
      "9         1         1         9          34\n",
      "10        1         1         9          43\n",
      "11        1         1         9          52\n",
      "12        1         1         1          61\n",
      "13        1         1         9          62\n",
      "14        1         1         9          71\n",
      "15        2         1         9          80\n",
      "16        2         1         1          89\n",
      "17        2         1         2          90\n",
      "18        2         1         1          92\n",
      "19        3         1         9          93\n",
      "20        4         1         9         102\n",
      "21        3         1         9         111\n",
      "22        5         1         9         120\n",
      "23        5         1         1         129\n",
      "24        4         1         9         130\n",
      "25        4         1         1         139\n",
      "26        5         1         9         140\n",
      "27        4         1         1         149\n",
      "28        5         1         1         150\n",
      "29        4         1         2         151\n",
      "30        5         4         4           0\n",
      "31        3         4         4           4\n",
      "32        3         4         4           8\n",
      "33        3         4         4         102\n",
      "34        5         4         4         130\n",
      "35        4         4         4         140\n",
      "status=OPTIMAL\n"
     ]
    }
   ],
   "source": [
    "print(f\"optimal_time={optimal_time}\")\n",
    "print(f\"output={output}\")\n",
    "print(f\"gannt data = {gantt_data}\")\n",
    "print(f\"status={status}\")"
   ]
  },
  {
   "cell_type": "code",
   "execution_count": 7,
   "metadata": {},
   "outputs": [],
   "source": [
    "from envs.minimal_jsp_env.util.jsp_conversion.readers import JSPReaderJSON\n",
    "\n",
    "test_instance2 = JSPReaderJSON().read_instance('data/entropy_datasets/entropy0_4/entropy0_4_49')"
   ]
  },
  {
   "cell_type": "code",
   "execution_count": 8,
   "metadata": {},
   "outputs": [],
   "source": [
    "from envs.minimal_jsp_env.util.jsp_solver import JSPSolver"
   ]
  },
  {
   "cell_type": "code",
   "execution_count": 9,
   "metadata": {},
   "outputs": [
    {
     "data": {
      "text/plain": [
       "153.0"
      ]
     },
     "execution_count": 9,
     "metadata": {},
     "output_type": "execute_result"
    }
   ],
   "source": [
    "JSPSolver().solve(test_instance2)"
   ]
  },
  {
   "cell_type": "code",
   "execution_count": null,
   "metadata": {},
   "outputs": [],
   "source": []
  }
 ],
 "metadata": {
  "kernelspec": {
   "display_name": "deep_rl",
   "language": "python",
   "name": "python3"
  },
  "language_info": {
   "codemirror_mode": {
    "name": "ipython",
    "version": 3
   },
   "file_extension": ".py",
   "mimetype": "text/x-python",
   "name": "python",
   "nbconvert_exporter": "python",
   "pygments_lexer": "ipython3",
   "version": "3.9.12 (main, Apr  4 2022, 05:22:27) [MSC v.1916 64 bit (AMD64)]"
  },
  "orig_nbformat": 4,
  "vscode": {
   "interpreter": {
    "hash": "c17c7798a234b4ec4e31009dea6d0ff377deb5cfd05df96186109883c898b2c6"
   }
  }
 },
 "nbformat": 4,
 "nbformat_minor": 2
}
