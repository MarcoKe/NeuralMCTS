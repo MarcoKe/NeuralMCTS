{
 "cells": [
  {
   "cell_type": "code",
   "execution_count": 1,
   "metadata": {},
   "outputs": [],
   "source": [
    "import random\n",
    "import numpy as np\n",
    "from envs.minimal_jsp_env.util.jsp_generation.random_generator import RandomJSPGenerator, RandomJSPGeneratorPool, RandomJSPGeneratorOperationDistirbution, RandomJSPGeneratorWithJobPool"
   ]
  },
  {
   "cell_type": "code",
   "execution_count": 2,
   "metadata": {},
   "outputs": [],
   "source": [
    "num_operations = 6\n",
    "max_op_duration = 9\n",
    "pool_size = 36\n",
    "num_jobs = 6"
   ]
  },
  {
   "cell_type": "code",
   "execution_count": 3,
   "metadata": {},
   "outputs": [],
   "source": [
    "entropy0_2 = [0.5, 0.5]\n",
    "entropy0_3 = [0.3333333333333333, 0.3333333333333333, 0.3333333333333333]\n",
    "entropy0_4 = [0.08333333333333333, 0.16666666666666666, 0.25, 0.08333333333333333, 0.4166666666666667]\n",
    "entropy0_5 = [0.3333333333333333, 0.16666666666666666, 0.08333333333333333, 0.08333333333333333, 0.08333333333333333, 0.08333333333333333, 0.16666666666666666]\n",
    "entropy0_6 = [0.08333333333333333, 0.08333333333333333, 0.08333333333333333, 0.08333333333333333, 0.16666666666666666, 0.08333333333333333, 0.16666666666666666, 0.16666666666666666, 0.08333333333333333]\n",
    "entropy0_7 = [0.05555555555555555, 0.1111111111111111, 0.027777777777777776, 0.05555555555555555, 0.05555555555555555, 0.16666666666666666, 0.16666666666666666, 0.05555555555555555, 0.027777777777777776, 0.027777777777777776, 0.08333333333333333, 0.027777777777777776, 0.05555555555555555, 0.05555555555555555, 0.027777777777777776]\n",
    "entropy0_8 = [0.16666666666666666, 0.027777777777777776, 0.027777777777777776, 0.027777777777777776, 0.027777777777777776, 0.027777777777777776, 0.05555555555555555, 0.027777777777777776, 0.05555555555555555, 0.027777777777777776, 0.027777777777777776, 0.05555555555555555, 0.05555555555555555, 0.027777777777777776, 0.027777777777777776, 0.05555555555555555, 0.027777777777777776, 0.08333333333333333, 0.05555555555555555, 0.08333333333333333, 0.027777777777777776]"
   ]
  },
  {
   "cell_type": "code",
   "execution_count": 4,
   "metadata": {},
   "outputs": [],
   "source": [
    "from collections import Counter\n",
    "from scipy.stats import entropy as entropy_cal\n",
    "\n",
    "def calculate_entropy_from_operations_list(operation_types):\n",
    "    counts = Counter(operation_types)\n",
    "    #print(operation_types)\n",
    "    probabilities = [count/len(operation_types) for count in counts.values()]\n",
    "    entropy_val = entropy_cal(probabilities)#, base=2)\n",
    "    #print(f\"{probabilities} --> {entropy_val}\")2.870741251953434\n",
    "    return entropy_val"
   ]
  },
  {
   "cell_type": "code",
   "execution_count": 5,
   "metadata": {},
   "outputs": [
    {
     "data": {
      "text/plain": [
       "3.5835189384561104"
      ]
     },
     "execution_count": 5,
     "metadata": {},
     "output_type": "execute_result"
    }
   ],
   "source": [
    "calculate_entropy_from_operations_list(list(range(36)))"
   ]
  },
  {
   "cell_type": "code",
   "execution_count": 6,
   "metadata": {},
   "outputs": [
    {
     "name": "stdout",
     "output_type": "stream",
     "text": [
      "0.6931471805599453\n",
      "1.0986122886681096\n",
      "1.4241299173467736\n",
      "1.7917594692280545\n",
      "2.138333059508028\n",
      "2.5096329910133353\n",
      "2.870741251953434\n"
     ]
    }
   ],
   "source": [
    "for i in range(2, 9, 1):\n",
    "    print(entropy_cal(eval(f\"entropy0_{i}\")))"
   ]
  },
  {
   "cell_type": "code",
   "execution_count": 7,
   "metadata": {},
   "outputs": [
    {
     "data": {
      "text/plain": [
       "[[Operation(job_id=0, op_id=0, machine_type=0, duration=2),\n",
       "  Operation(job_id=0, op_id=1, machine_type=2, duration=5),\n",
       "  Operation(job_id=0, op_id=2, machine_type=2, duration=3)],\n",
       " [Operation(job_id=1, op_id=0, machine_type=2, duration=7),\n",
       "  Operation(job_id=1, op_id=1, machine_type=2, duration=5),\n",
       "  Operation(job_id=1, op_id=2, machine_type=2, duration=4)],\n",
       " [Operation(job_id=2, op_id=0, machine_type=1, duration=2),\n",
       "  Operation(job_id=2, op_id=1, machine_type=2, duration=4),\n",
       "  Operation(job_id=2, op_id=2, machine_type=1, duration=4)]]"
      ]
     },
     "execution_count": 7,
     "metadata": {},
     "output_type": "execute_result"
    }
   ],
   "source": [
    "instance_fully_random = RandomJSPGenerator(num_jobs=3, num_operations=3, max_op_duration=9).generate()\n",
    "instance_fully_random.jobs"
   ]
  },
  {
   "cell_type": "code",
   "execution_count": 8,
   "metadata": {},
   "outputs": [
    {
     "data": {
      "text/plain": [
       "[[Operation(job_id=0, op_id=0, machine_type=2, duration=7),\n",
       "  Operation(job_id=0, op_id=1, machine_type=1, duration=6),\n",
       "  Operation(job_id=0, op_id=2, machine_type=2, duration=5)],\n",
       " [Operation(job_id=1, op_id=0, machine_type=2, duration=5),\n",
       "  Operation(job_id=1, op_id=1, machine_type=0, duration=7),\n",
       "  Operation(job_id=1, op_id=2, machine_type=0, duration=7)],\n",
       " [Operation(job_id=2, op_id=0, machine_type=2, duration=5),\n",
       "  Operation(job_id=2, op_id=1, machine_type=2, duration=7),\n",
       "  Operation(job_id=2, op_id=2, machine_type=2, duration=7)]]"
      ]
     },
     "execution_count": 8,
     "metadata": {},
     "output_type": "execute_result"
    }
   ],
   "source": [
    "instance = RandomJSPGeneratorPool(num_jobs=3, num_operations=3, max_op_duration=9).generate()\n",
    "instance.jobs"
   ]
  },
  {
   "cell_type": "code",
   "execution_count": 9,
   "metadata": {},
   "outputs": [
    {
     "data": {
      "text/plain": [
       "[[Operation(job_id=0, op_id=0, machine_type=2, duration=4),\n",
       "  Operation(job_id=0, op_id=1, machine_type=1, duration=4),\n",
       "  Operation(job_id=0, op_id=2, machine_type=1, duration=4)],\n",
       " [Operation(job_id=1, op_id=0, machine_type=2, duration=4),\n",
       "  Operation(job_id=1, op_id=1, machine_type=2, duration=4),\n",
       "  Operation(job_id=1, op_id=2, machine_type=1, duration=4)],\n",
       " [Operation(job_id=2, op_id=0, machine_type=2, duration=4),\n",
       "  Operation(job_id=2, op_id=1, machine_type=1, duration=4)]]"
      ]
     },
     "execution_count": 9,
     "metadata": {},
     "output_type": "execute_result"
    }
   ],
   "source": [
    "instance_entropy = RandomJSPGeneratorOperationDistirbution(num_jobs=3, num_operations=3, max_op_duration=9).generate(entropy0_2)\n",
    "instance_entropy.jobs"
   ]
  },
  {
   "cell_type": "code",
   "execution_count": 10,
   "metadata": {},
   "outputs": [
    {
     "data": {
      "text/plain": [
       "[[Operation(job_id=4, op_id=0, machine_type=0, duration=7),\n",
       "  Operation(job_id=4, op_id=1, machine_type=2, duration=9),\n",
       "  Operation(job_id=4, op_id=2, machine_type=0, duration=7)],\n",
       " [Operation(job_id=9, op_id=0, machine_type=0, duration=7),\n",
       "  Operation(job_id=9, op_id=1, machine_type=0, duration=7),\n",
       "  Operation(job_id=9, op_id=2, machine_type=1, duration=4)],\n",
       " [Operation(job_id=2, op_id=0, machine_type=0, duration=7),\n",
       "  Operation(job_id=2, op_id=1, machine_type=1, duration=4),\n",
       "  Operation(job_id=2, op_id=2, machine_type=2, duration=9)]]"
      ]
     },
     "execution_count": 10,
     "metadata": {},
     "output_type": "execute_result"
    }
   ],
   "source": [
    "job_pool_isntance = RandomJSPGeneratorWithJobPool(num_jobs=3, num_operations=3, max_op_duration=9, operation_distribution=entropy0_3).generate()\n",
    "job_pool_isntance.jobs"
   ]
  },
  {
   "cell_type": "code",
   "execution_count": 11,
   "metadata": {},
   "outputs": [
    {
     "data": {
      "text/plain": [
       "[[Operation(job_id=9, op_id=0, machine_type=0, duration=6),\n",
       "  Operation(job_id=9, op_id=1, machine_type=0, duration=6),\n",
       "  Operation(job_id=9, op_id=2, machine_type=1, duration=8)],\n",
       " [Operation(job_id=8, op_id=0, machine_type=1, duration=6),\n",
       "  Operation(job_id=8, op_id=1, machine_type=1, duration=8),\n",
       "  Operation(job_id=8, op_id=2, machine_type=2, duration=2)],\n",
       " [Operation(job_id=0, op_id=0, machine_type=2, duration=9),\n",
       "  Operation(job_id=0, op_id=1, machine_type=2, duration=2),\n",
       "  Operation(job_id=0, op_id=2, machine_type=1, duration=6)]]"
      ]
     },
     "execution_count": 11,
     "metadata": {},
     "output_type": "execute_result"
    }
   ],
   "source": [
    "job_pool_isntance = RandomJSPGeneratorWithJobPool(num_jobs=3, num_operations=3, max_op_duration=9).generate()\n",
    "job_pool_isntance.jobs"
   ]
  },
  {
   "cell_type": "code",
   "execution_count": null,
   "metadata": {},
   "outputs": [],
   "source": []
  }
 ],
 "metadata": {
  "kernelspec": {
   "display_name": "deep_rl",
   "language": "python",
   "name": "python3"
  },
  "language_info": {
   "codemirror_mode": {
    "name": "ipython",
    "version": 3
   },
   "file_extension": ".py",
   "mimetype": "text/x-python",
   "name": "python",
   "nbconvert_exporter": "python",
   "pygments_lexer": "ipython3",
   "version": "3.9.12"
  },
  "orig_nbformat": 4,
  "vscode": {
   "interpreter": {
    "hash": "c17c7798a234b4ec4e31009dea6d0ff377deb5cfd05df96186109883c898b2c6"
   }
  }
 },
 "nbformat": 4,
 "nbformat_minor": 2
}
